{
 "cells": [
  {
   "cell_type": "code",
   "execution_count": 1,
   "id": "b4c2b1de-0a19-4335-8bcd-9e5971843439",
   "metadata": {},
   "outputs": [],
   "source": [
    "import numpy as np\n",
    "import torch\n",
    "from torch.utils import data\n",
    "from d2l import torch as d2l\n",
    "\n",
    "true_w = torch.tensor([2, -3.4])\n",
    "true_b = 4.2\n",
    "features, labels = d2l.synthetic_data(true_w, true_b, 1000)"
   ]
  },
  {
   "cell_type": "code",
   "execution_count": 3,
   "id": "ebf83f7f-36b3-49aa-adcb-2a144529f69b",
   "metadata": {},
   "outputs": [],
   "source": [
    "def load_array(data_arrays, batch_size, is_train=True):\n",
    "    \"\"\"构造一个PyTorch数据迭代器\"\"\"\n",
    "    dataset = data.TensorDataset(*data_arrays)  # 创建一个数据集对象，*:解包参数，data_arrays=(features, labels)\n",
    "    return data.DataLoader(dataset, batch_size, shuffle=is_train) # 创建一个数据加载器，dataset是上一步创建的数据集\n",
    "\n",
    "batch_size = 10\n",
    "data_iter = load_array((features, labels), batch_size)  # remind：data_iter是一个DataLoader对象，负责将数据集分成小批次，并在需要时提供这些批次"
   ]
  },
  {
   "cell_type": "code",
   "execution_count": 6,
   "id": "7771c348-bb2f-4c30-b015-23f6c23452f9",
   "metadata": {},
   "outputs": [
    {
     "data": {
      "text/plain": [
       "[tensor([[-0.9912, -1.2268],\n",
       "         [-1.4712,  1.1625],\n",
       "         [-0.0169,  0.6459],\n",
       "         [-0.1577, -0.6110],\n",
       "         [-1.4047, -0.8467],\n",
       "         [-0.4623, -1.1433],\n",
       "         [-0.6722, -0.1065],\n",
       "         [-1.0573,  2.1277],\n",
       "         [-1.1552, -0.7636],\n",
       "         [ 1.0036, -1.6129]]),\n",
       " tensor([[ 6.3754],\n",
       "         [-2.6875],\n",
       "         [ 1.9754],\n",
       "         [ 5.9614],\n",
       "         [ 4.2856],\n",
       "         [ 7.1777],\n",
       "         [ 3.2087],\n",
       "         [-5.1578],\n",
       "         [ 4.4554],\n",
       "         [11.6840]])]"
      ]
     },
     "execution_count": 6,
     "metadata": {},
     "output_type": "execute_result"
    }
   ],
   "source": [
    "# 验证是否正常工作\n",
    "next(iter(data_iter))# iter()用于从一个可迭代对象（这里是DataLoader）创建一个迭代器。next()用于从迭代器中获取下一个项目，这里是一个元组（features, labels）"
   ]
  },
  {
   "cell_type": "code",
   "execution_count": 7,
   "id": "f85bd977-7220-45c4-ae84-fddca193a50b",
   "metadata": {},
   "outputs": [],
   "source": [
    "# Define model\n",
    "\"\"\"\n",
    "我们的模型net -> 是个Sequential类的实例\n",
    "全连接层在Linear类中定义，将两个参数传递到nn.Linear中，第一个指定输入特征形状，第二个指定输出特征形状\n",
    "\"\"\"\n",
    "from torch import nn\n",
    "net = nn.Sequential(nn.Linear(2, 1))"
   ]
  },
  {
   "cell_type": "code",
   "execution_count": 8,
   "id": "c3ac0871-7cac-4386-aa40-d53ebb980ef3",
   "metadata": {},
   "outputs": [
    {
     "data": {
      "text/plain": [
       "tensor([0.])"
      ]
     },
     "execution_count": 8,
     "metadata": {},
     "output_type": "execute_result"
    }
   ],
   "source": [
    "# Initialize parameters\n",
    "net[0].weight.data.normal_(0, 0.01)  # net[0]选择网络中的第一个图层；使用weight.data方法访问参数；使用替换方法normal_重写参数值\n",
    "net[0].bias.data.fill_(0)"
   ]
  },
  {
   "cell_type": "code",
   "execution_count": 10,
   "id": "a00b0e38-104f-45ff-8bad-4c04068cf991",
   "metadata": {},
   "outputs": [],
   "source": [
    "# Define loss\n",
    "loss = nn.MSELoss()  # mean squared error loss 平方L2范数"
   ]
  },
  {
   "cell_type": "code",
   "execution_count": 11,
   "id": "71c2615c-63b4-4e95-b4e7-5cffc6b91c41",
   "metadata": {},
   "outputs": [],
   "source": [
    "# Define optimize algorithm\n",
    "trainer = torch.optim.SGD(net.parameters(), lr=0.03)"
   ]
  },
  {
   "cell_type": "code",
   "execution_count": 15,
   "id": "c3413db6-6a87-4355-8db5-de118137eed8",
   "metadata": {},
   "outputs": [
    {
     "name": "stdout",
     "output_type": "stream",
     "text": [
      "epoch 1, loss 0.000103\n",
      "epoch 2, loss 0.000102\n",
      "epoch 3, loss 0.000102\n"
     ]
    }
   ],
   "source": [
    "# train\n",
    "\"\"\"\n",
    "在每个epoch中：\n",
    "    1. 计算损失\n",
    "    2. 计算梯度\n",
    "    3. 更新参数\n",
    "\"\"\"\n",
    "num_epochs = 3\n",
    "for epoch in range(num_epochs):\n",
    "    for X, y in data_iter:\n",
    "        l = loss(net(X), y)  # 计算损失，得到一个标量（已经sum过了）\n",
    "        trainer.zero_grad()  # 梯度清零\n",
    "        l.backward()  # 计算梯度\n",
    "        trainer.step()  # 更新参数\n",
    "    l = loss(net(features), labels)  \n",
    "    print(f'epoch {epoch + 1}, loss {l:f}')"
   ]
  },
  {
   "cell_type": "code",
   "execution_count": 18,
   "id": "ee6b68f5-619b-4643-8fc8-c4c64027276a",
   "metadata": {},
   "outputs": [
    {
     "name": "stdout",
     "output_type": "stream",
     "text": [
      "w的估计误差： tensor([3.6240e-05, 2.6822e-04])\n",
      "b的估计误差： tensor([0.0004])\n"
     ]
    }
   ],
   "source": [
    "w = net[0].weight.data\n",
    "print('w的估计误差：', true_w - w.reshape(true_w.shape))\n",
    "b = net[0].bias.data\n",
    "print('b的估计误差：', true_b - b)"
   ]
  },
  {
   "cell_type": "code",
   "execution_count": null,
   "id": "5557ea8f-5e94-4586-9231-0cd268155aeb",
   "metadata": {},
   "outputs": [],
   "source": []
  }
 ],
 "metadata": {
  "kernelspec": {
   "display_name": "Python 3 (ipykernel)",
   "language": "python",
   "name": "python3"
  },
  "language_info": {
   "codemirror_mode": {
    "name": "ipython",
    "version": 3
   },
   "file_extension": ".py",
   "mimetype": "text/x-python",
   "name": "python",
   "nbconvert_exporter": "python",
   "pygments_lexer": "ipython3",
   "version": "3.9.20"
  }
 },
 "nbformat": 4,
 "nbformat_minor": 5
}
