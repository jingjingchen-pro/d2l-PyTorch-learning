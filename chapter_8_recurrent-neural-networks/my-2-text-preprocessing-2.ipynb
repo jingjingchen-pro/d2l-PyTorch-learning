{
 "cells": [
  {
   "cell_type": "markdown",
   "id": "16eaef12",
   "metadata": {},
   "source": [
    "###  从零到一写个Vocab类\n"
   ]
  },
  {
   "cell_type": "markdown",
   "id": "27879777",
   "metadata": {},
   "source": [
    "#### 1.词频统计\n"
   ]
  },
  {
   "cell_type": "code",
   "execution_count": 1,
   "id": "ddd62ac5",
   "metadata": {},
   "outputs": [],
   "source": [
    "import collections"
   ]
  },
  {
   "cell_type": "code",
   "execution_count": null,
   "id": "34e5b1c2",
   "metadata": {},
   "outputs": [],
   "source": [
    "class Vocab:\n",
    "    def __init__(self, tokens):\n",
    "        # 展平二维tokens,[['a', 'b'], ['c']]\n",
    "        all_tokens = [token for line in tokens for token in line]\n",
    "        # 统计词频\n",
    "        self.counter = collections.Counter(all_tokens)\n"
   ]
  },
  {
   "cell_type": "code",
   "execution_count": 5,
   "id": "8aef779c",
   "metadata": {},
   "outputs": [
    {
     "name": "stdout",
     "output_type": "stream",
     "text": [
      "Counter({'hello': 2, 'world': 1, 'python': 1})\n",
      "2\n"
     ]
    }
   ],
   "source": [
    "tokens = [['hello', 'world'], ['hello', 'python']]\n",
    "vocab = Vocab(tokens)\n",
    "print(vocab.counter)\n",
    "print(vocab.counter['hello'])  # 输出 'hello' 的词频"
   ]
  },
  {
   "cell_type": "markdown",
   "id": "b4ddbd56",
   "metadata": {},
   "source": [
    "#### 2. 构建词表映射（词元<->索引）"
   ]
  },
  {
   "cell_type": "code",
   "execution_count": null,
   "id": "d69883cc",
   "metadata": {},
   "outputs": [],
   "source": [
    "class Vocab:\n",
    "    def __init__(self, tokens):\n",
    "        # 展平二维tokens,[['a', 'b'], ['c']]\n",
    "        all_tokens = [token for line in tokens for token in line]\n",
    "        # 统计词频\n",
    "        self.counter = collections.Counter(all_tokens)\n",
    "\n",
    "        self.idx_to_token = ['<unk>']\n",
    "        self.token_to_idx = {'unk':0}\n",
    "\n",
    "        for token, freq in counter.items():\n",
    "            self.idx_to_token.append(token)\n",
    "            self.token_to_idx[token] = len(self.idx_to_token) - 1\n",
    "         "
   ]
  },
  {
   "cell_type": "markdown",
   "id": "2a586c35",
   "metadata": {},
   "source": [
    "#### 3.支持查索引和索引转回词元,（查索引）比如：\n",
    "```python\n",
    "vocab['hello']      # 得到索引\n",
    "vocab[['hello', 'world']]  # 得到索引列表\n",
    "```"
   ]
  },
  {
   "cell_type": "code",
   "execution_count": null,
   "id": "59e1791c",
   "metadata": {},
   "outputs": [],
   "source": [
    "class Vocab:\n",
    "    def __init__(self, tokens):\n",
    "        # 展平二维tokens,[['a', 'b'], ['c']]\n",
    "        all_tokens = [token for line in tokens for token in line]\n",
    "        # 统计词频\n",
    "        self.counter = collections.Counter(all_tokens)\n",
    "\n",
    "        self.idx_to_token = ['<unk>']\n",
    "        self.token_to_idx = {'unk':0}\n",
    "\n",
    "        for token, freq in counter.items():\n",
    "            self.idx_to_token.append(token)  # idx_to_token是列表\n",
    "            self.token_to_idx[token] = len(self.idx_to_token) - 1  # 是字典\n",
    "\n",
    "    def __getitem__(self, token):\n",
    "        if not isinstance(token, (list, tuple)):  # 如果token不是list/tuple\n",
    "            return self.token_to_idx.get(tokens, self.unk)  # 如果token_to_idx的键中匹配不到，则返回self.unk\n",
    "        return [self.__getitem__(token) for token in tokens]\n",
    "    \n",
    "    def to_tokens(self, indices):\n",
    "        if not isinstance(indices, (list, tuple)):\n",
    "            return self.idx_to_token[indices]\n",
    "        return [self.idx_to_token[index] for index in indices]\n"
   ]
  },
  {
   "cell_type": "markdown",
   "id": "7e1f63d2",
   "metadata": {},
   "source": [
    "#### 4.加其他\n"
   ]
  }
 ],
 "metadata": {
  "kernelspec": {
   "display_name": "d2l",
   "language": "python",
   "name": "python3"
  },
  "language_info": {
   "codemirror_mode": {
    "name": "ipython",
    "version": 3
   },
   "file_extension": ".py",
   "mimetype": "text/x-python",
   "name": "python",
   "nbconvert_exporter": "python",
   "pygments_lexer": "ipython3",
   "version": "3.9.20"
  }
 },
 "nbformat": 4,
 "nbformat_minor": 5
}
