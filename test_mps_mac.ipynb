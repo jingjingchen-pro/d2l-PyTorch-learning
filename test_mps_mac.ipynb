{
 "cells": [
  {
   "cell_type": "code",
   "execution_count": 2,
   "id": "44918da3",
   "metadata": {},
   "outputs": [
    {
     "name": "stdout",
     "output_type": "stream",
     "text": [
      "✅ MPS 可用，使用 Apple GPU 加速。\n",
      "输入张量 x: tensor([1., 1., 1., 1., 1.], device='mps:0')\n",
      "模型输出: tensor([0.3582], device='mps:0')\n"
     ]
    }
   ],
   "source": [
    "import torch\n",
    "import torch.nn as nn\n",
    "\n",
    "# 检查 MPS 是否可用\n",
    "if not torch.backends.mps.is_available():\n",
    "    if not torch.backends.mps.is_built():\n",
    "        print(\"❌ MPS 不可用：当前 PyTorch 安装未启用 MPS 支持。\")\n",
    "    else:\n",
    "        print(\"❌ MPS 不可用：macOS 版本需 >= 12.3 且设备需支持 MPS。\")\n",
    "    device = torch.device(\"cpu\")\n",
    "else:\n",
    "    print(\"✅ MPS 可用，使用 Apple GPU 加速。\")\n",
    "    device = torch.device(\"mps\")\n",
    "\n",
    "# 定义一个简单的神经网络模型\n",
    "class SimpleModel(nn.Module):\n",
    "    def __init__(self):\n",
    "        super(SimpleModel, self).__init__()\n",
    "        self.linear = nn.Linear(5, 1)\n",
    "\n",
    "    def forward(self, x):\n",
    "        return self.linear(x)\n",
    "\n",
    "# 实例化模型并移动到 device（MPS 或 CPU）\n",
    "model = SimpleModel().to(device)\n",
    "\n",
    "# 创建输入张量并移动到同一个 device\n",
    "x = torch.ones(5, device=device)\n",
    "print(f\"输入张量 x: {x}\")\n",
    "\n",
    "# 执行前向计算\n",
    "with torch.no_grad():\n",
    "    output = model(x)\n",
    "    print(f\"模型输出: {output}\")"
   ]
  },
  {
   "cell_type": "code",
   "execution_count": 3,
   "id": "b5354e0f",
   "metadata": {},
   "outputs": [
    {
     "name": "stdout",
     "output_type": "stream",
     "text": [
      "/Users/cjair24/Documents/code/d2l-PyTorch-learning/d2l/__init__.py\n"
     ]
    }
   ],
   "source": [
    "import d2l\n",
    "print(d2l.__file__)"
   ]
  },
  {
   "cell_type": "code",
   "execution_count": 4,
   "id": "8eb73061",
   "metadata": {},
   "outputs": [
    {
     "name": "stdout",
     "output_type": "stream",
     "text": [
      "/opt/anaconda3/envs/d2l/lib/python310.zip\n",
      "/opt/anaconda3/envs/d2l/lib/python3.10\n",
      "/opt/anaconda3/envs/d2l/lib/python3.10/lib-dynload\n",
      "\n",
      "/opt/anaconda3/envs/d2l/lib/python3.10/site-packages\n"
     ]
    }
   ],
   "source": [
    "import sys\n",
    "for p in sys.path:\n",
    "    print(p)"
   ]
  },
  {
   "cell_type": "code",
   "execution_count": null,
   "id": "0f987e51",
   "metadata": {},
   "outputs": [],
   "source": []
  }
 ],
 "metadata": {
  "kernelspec": {
   "display_name": "d2l",
   "language": "python",
   "name": "python3"
  },
  "language_info": {
   "codemirror_mode": {
    "name": "ipython",
    "version": 3
   },
   "file_extension": ".py",
   "mimetype": "text/x-python",
   "name": "python",
   "nbconvert_exporter": "python",
   "pygments_lexer": "ipython3",
   "version": "3.10.16"
  }
 },
 "nbformat": 4,
 "nbformat_minor": 5
}
