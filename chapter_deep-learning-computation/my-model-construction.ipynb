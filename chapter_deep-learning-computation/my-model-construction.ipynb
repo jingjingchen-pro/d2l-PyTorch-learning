{
 "cells": [
  {
   "cell_type": "code",
   "execution_count": 1,
   "metadata": {},
   "outputs": [],
   "source": [
    "# 层和块\n",
    "\n",
    "## 块由类表示，任何子类都必须定义一个将其输入转换为输出的前向传播函数"
   ]
  },
  {
   "cell_type": "code",
   "execution_count": 2,
   "metadata": {},
   "outputs": [],
   "source": [
    "import torch\n",
    "from torch import nn\n",
    "from torch.nn import functional as F  # 一组函数式的API，它提供了许多神经网络操作的函数实现（如激活函数、卷积操作、池化操作等）"
   ]
  },
  {
   "cell_type": "code",
   "execution_count": null,
   "metadata": {},
   "outputs": [
    {
     "data": {
      "text/plain": [
       "tensor([[ 0.3255,  0.0831, -0.0611,  0.1000, -0.2144, -0.0971,  0.0024, -0.0198,\n",
       "          0.1175, -0.0229],\n",
       "        [ 0.1743,  0.0020, -0.1273,  0.2158, -0.0590, -0.1780,  0.0953, -0.1102,\n",
       "          0.1143, -0.0151]], grad_fn=<AddmmBackward0>)"
      ]
     },
     "execution_count": 4,
     "metadata": {},
     "output_type": "execute_result"
    }
   ],
   "source": [
    "net = nn.Sequential(nn.Linear(20, 256),  nn.ReLU(), nn.Linear(256, 10))  \n",
    "        # Again, nn.Sequential是PyTorch的一个容器，用于按顺序将多个层组合在一起\n",
    "\n",
    "X = torch.rand(2, 20)\n",
    "net(X)  # net.__call__(X)的简写"
   ]
  },
  {
   "cell_type": "code",
   "execution_count": 5,
   "metadata": {},
   "outputs": [],
   "source": [
    "# 自定义块\n",
    "# 每个块必须提供的基本功能：\n",
    "# 1. 将输入数据作为其前向传播的参数\n",
    "# 2. 通过前向传播函数来生成输出\n",
    "# 3. 计算其输出关于输入的梯度，可通过其反向传播函数进行访问。（通常自动发生）\n",
    "# 4. 存储和访问前向传播计算所需的参数\n",
    "# 5. 根据需要初始化模型参数"
   ]
  },
  {
   "cell_type": "code",
   "execution_count": 7,
   "metadata": {},
   "outputs": [],
   "source": [
    "class MLP(nn.Module):\n",
    "    # 用模型参数声明层。这里我们声明两个全连接的层\n",
    "    def __init__(self):\n",
    "        # 调用父类Module的构造函数来执行必要的初始化\n",
    "        # 这样，在类实例化时也可以指定其他函数参数，例如模型参数params\n",
    "        super().__init__()\n",
    "        self.hidden = nn.Linear(20, 256)\n",
    "        self.out = nn.Linear(256, 10)\n",
    "\n",
    "    # 定义模型的前向传播\n",
    "    def forward(self, X):\n",
    "        # 这里我们使用ReLU的函数版本，其在nn.functional模块中定义\n",
    "        return self.out(F.relu(self.hidden(X)))"
   ]
  },
  {
   "cell_type": "code",
   "execution_count": 9,
   "metadata": {},
   "outputs": [
    {
     "data": {
      "text/plain": [
       "tensor([[ 0.1441,  0.0060, -0.0849, -0.1101,  0.0168,  0.1831,  0.0741,  0.0826,\n",
       "          0.0683,  0.0327],\n",
       "        [ 0.0600,  0.0452, -0.1666, -0.0795,  0.0799,  0.2856,  0.2310,  0.1618,\n",
       "         -0.0885,  0.0475]], grad_fn=<AddmmBackward0>)"
      ]
     },
     "execution_count": 9,
     "metadata": {},
     "output_type": "execute_result"
    }
   ],
   "source": [
    "net = MLP()\n",
    "net(X)"
   ]
  },
  {
   "cell_type": "code",
   "execution_count": 12,
   "metadata": {},
   "outputs": [],
   "source": [
    "# 顺序块Sequential\n",
    "class MySequential(nn.Module):\n",
    "    def __init__(self, *args):\n",
    "        super().__init__()\n",
    "        for idx, module in enumerate(args):  # 用enumerate遍历传入的args元组，enumerate()会同时返回当前元素的索引和元素值\n",
    "            # 这里，module时Module子类的一个实例，我们把它保存在'Module'类的实例成员变量_modules中。__modules的类型是OrderedDict\n",
    "            # 成员变量是绑定到某个具体对象（实例）的变量，即仅作用于该对象（实例）本身\n",
    "            # _modules中，单下划线前缀是一种约定，表示该变量或方法是“受保护的”或“内部使用的”\n",
    "            self._modules[str(idx)] = module\n",
    "        \n",
    "    def forward(self, X):\n",
    "        # OrderedDict保证了按照成员添加的顺序遍历它们\n",
    "        for block in self._modules.values():\n",
    "            X = block(X)\n",
    "        return X\n"
   ]
  },
  {
   "cell_type": "code",
   "execution_count": null,
   "metadata": {},
   "outputs": [
    {
     "data": {
      "text/plain": [
       "tensor([[ 0.0310, -0.1787, -0.0285, -0.0208,  0.1479, -0.0316, -0.0357, -0.0278,\n",
       "          0.1241, -0.0650],\n",
       "        [-0.0404, -0.1686,  0.2224, -0.2464,  0.1851, -0.0212, -0.1189, -0.0934,\n",
       "          0.0141,  0.1771]], grad_fn=<AddmmBackward0>)"
      ]
     },
     "execution_count": 13,
     "metadata": {},
     "output_type": "execute_result"
    }
   ],
   "source": [
    "net = MySequential(nn.Linear(20, 256), nn.ReLU(), nn.Linear(256, 10))\n",
    "net(X)  # nn.Module重载了__call__方法，会在调用net(X)时自动调用子类中定义的forward方法"
   ]
  },
  {
   "cell_type": "code",
   "execution_count": 14,
   "metadata": {},
   "outputs": [],
   "source": [
    "# 在前向传播函数中执行代码\n",
    "class FixedHiddenMLP(nn.Module):\n",
    "    def __init__(self):\n",
    "        super().__init__()\n",
    "        # 不计算梯度的随机权重参数。因此其在训练期间保持不变\n",
    "        self.rand_weight = torch.rand((20, 20), requires_grad=False)\n",
    "        self.linear = nn.Linear(20, 20)\n",
    "\n",
    "    def forward(self, X):\n",
    "        X = self.linear(X)\n",
    "        # 使用创建的常量参数以及relu和mm函数\n",
    "        X = F.relu(torch.mm(X, self.rand_weight) + 1)\n",
    "        # 复用全连接层，这相当于两个全连接层共享参数\n",
    "        X = self.linear(X)\n",
    "        # 控制流\n",
    "        while X.abs().sum() > 1:\n",
    "            X /= 2\n",
    "        return X.sum()\n",
    "\n",
    "\n"
   ]
  },
  {
   "cell_type": "code",
   "execution_count": 15,
   "metadata": {},
   "outputs": [
    {
     "data": {
      "text/plain": [
       "tensor(-0.0814, grad_fn=<SumBackward0>)"
      ]
     },
     "execution_count": 15,
     "metadata": {},
     "output_type": "execute_result"
    }
   ],
   "source": [
    "net = FixedHiddenMLP()\n",
    "net(X)"
   ]
  },
  {
   "cell_type": "code",
   "execution_count": 17,
   "metadata": {},
   "outputs": [
    {
     "data": {
      "text/plain": [
       "tensor(-0.0421, grad_fn=<SumBackward0>)"
      ]
     },
     "execution_count": 17,
     "metadata": {},
     "output_type": "execute_result"
    }
   ],
   "source": [
    "# 混合搭配各种组合块\n",
    "class NestMLP(nn.Module):\n",
    "    def __init__(self):\n",
    "        super().__init__()\n",
    "        self.net = nn.Sequential(nn.Linear(20, 64), nn.ReLU(),\n",
    "                                 nn.Linear(64, 32), nn.ReLU())\n",
    "        self.linear = nn.Linear(32, 16)\n",
    "\n",
    "    def forward(self, X):\n",
    "        return self.linear(self.net(X))\n",
    "\n",
    "chimera = nn.Sequential(NestMLP(), nn.Linear(16, 20), FixedHiddenMLP())\n",
    "chimera(X)"
   ]
  },
  {
   "cell_type": "code",
   "execution_count": null,
   "metadata": {},
   "outputs": [],
   "source": []
  }
 ],
 "metadata": {
  "kernelspec": {
   "display_name": "d2l",
   "language": "python",
   "name": "python3"
  },
  "language_info": {
   "codemirror_mode": {
    "name": "ipython",
    "version": 3
   },
   "file_extension": ".py",
   "mimetype": "text/x-python",
   "name": "python",
   "nbconvert_exporter": "python",
   "pygments_lexer": "ipython3",
   "version": "3.9.20"
  }
 },
 "nbformat": 4,
 "nbformat_minor": 2
}
