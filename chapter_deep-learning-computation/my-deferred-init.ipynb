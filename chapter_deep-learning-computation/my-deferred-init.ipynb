{
 "cells": [
  {
   "cell_type": "code",
   "execution_count": 1,
   "metadata": {},
   "outputs": [],
   "source": [
    "import torch\n",
    "from torch import nn\n",
    "from d2l import torch as d2l"
   ]
  },
  {
   "cell_type": "code",
   "execution_count": 2,
   "metadata": {},
   "outputs": [],
   "source": [
    "# nn.LazyLinear是一种延迟初始化的全连接层（线性层），它允许在未指定输入特征维度的情况下创建层（只指定输出维度）\n",
    "net = nn.Sequential(nn.LazyLinear(256), nn.ReLU(), nn.LazyLinear(10))"
   ]
  },
  {
   "cell_type": "code",
   "execution_count": 3,
   "metadata": {},
   "outputs": [
    {
     "data": {
      "text/plain": [
       "<UninitializedParameter>"
      ]
     },
     "execution_count": 3,
     "metadata": {},
     "output_type": "execute_result"
    }
   ],
   "source": [
    "# 由于网络不知道输入层权重的维度，所以框架尚未初始化任何参数\n",
    "net[0].weight"
   ]
  },
  {
   "cell_type": "code",
   "execution_count": 4,
   "metadata": {},
   "outputs": [
    {
     "name": "stdout",
     "output_type": "stream",
     "text": [
      "Sequential(\n",
      "  (0): LazyLinear(in_features=0, out_features=256, bias=True)\n",
      "  (1): ReLU()\n",
      "  (2): LazyLinear(in_features=0, out_features=10, bias=True)\n",
      ")\n"
     ]
    }
   ],
   "source": [
    "print(net)"
   ]
  },
  {
   "cell_type": "code",
   "execution_count": 6,
   "metadata": {},
   "outputs": [
    {
     "name": "stdout",
     "output_type": "stream",
     "text": [
      "Sequential(\n",
      "  (0): Linear(in_features=20, out_features=256, bias=True)\n",
      "  (1): ReLU()\n",
      "  (2): Linear(in_features=256, out_features=10, bias=True)\n",
      ") \n",
      "\n",
      "torch.Size([256, 20])\n"
     ]
    }
   ],
   "source": [
    "# 接下来我们通过网络传递数据，让框架最终初始化参数\n",
    "X = torch.rand(2, 20)\n",
    "net(X)\n",
    "\n",
    "print(net, '\\n')\n",
    "print(net[0].weight.shape)"
   ]
  },
  {
   "cell_type": "code",
   "execution_count": null,
   "metadata": {},
   "outputs": [],
   "source": [
    "# @装饰器，本质上是一个函数，它可以用来修改或扩展另一个函数或类的行为\n",
    "# 这里表示将某个方法或属性动态添加到d2l.Module类中\n",
    "@d2l.add_to_class(d2l.Module)\n",
    "def apply_init(self, inputs, init=None):\n",
    "    self.forward(*inputs)\n",
    "    if init is not None:\n",
    "        self.net.apply(init)"
   ]
  },
  {
   "cell_type": "markdown",
   "metadata": {},
   "source": [
    "add_to_class的实现如下：\n",
    "```python\n",
    "def add_to_class(Class):  # 装饰器的外层函数，是个高阶函数\n",
    "    \"\"\"Register functions as methods in created class.\n",
    "\n",
    "    Defined in :numref:`sec_oo-design`\"\"\"\n",
    "    def wrapper(obj):  # 内部函数，obj是被装饰的对象（通常是一个函数）\n",
    "        setattr(Class, obj.__name__, obj)  # 将传入的函数obj动态绑定到类Class中（作为类的一个方法）\n",
    "    return wrapper  # 返回一个装饰器函数\n",
    "```\n",
    "当使用@add_to_class(Class)装饰某个函数时，wrapper会被调用，并将该函数添加到指定的类Class中\n",
    "\n",
    "注：\n",
    "\n",
    "动态添加的含义：程序在**运行**时，将新的属性或方法添加到类或对象中。\n"
   ]
  },
  {
   "cell_type": "markdown",
   "metadata": {},
   "source": []
  }
 ],
 "metadata": {
  "kernelspec": {
   "display_name": "d2l",
   "language": "python",
   "name": "python3"
  },
  "language_info": {
   "codemirror_mode": {
    "name": "ipython",
    "version": 3
   },
   "file_extension": ".py",
   "mimetype": "text/x-python",
   "name": "python",
   "nbconvert_exporter": "python",
   "pygments_lexer": "ipython3",
   "version": "3.9.20"
  }
 },
 "nbformat": 4,
 "nbformat_minor": 2
}
